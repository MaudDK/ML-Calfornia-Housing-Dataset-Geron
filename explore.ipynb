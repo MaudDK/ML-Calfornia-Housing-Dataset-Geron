{
 "cells": [
  {
   "cell_type": "markdown",
   "metadata": {},
   "source": [
    "Importing Necessary Packages"
   ]
  },
  {
   "cell_type": "code",
   "execution_count": 348,
   "metadata": {},
   "outputs": [],
   "source": [
    "import tarfile, urllib, os\n",
    "import pandas as pd\n",
    "import numpy as np\n",
    "import seaborn as sns\n",
    "from sklearn.model_selection import StratifiedShuffleSplit, train_test_split\n",
    "\n",
    "%matplotlib inline\n",
    "import matplotlib as mpl\n",
    "import matplotlib.image as mpimg\n",
    "import matplotlib.pyplot as plt\n",
    "mpl.rc('axes', labelsize=14)\n",
    "mpl.rc('xtick', labelsize=12)\n",
    "mpl.rc('ytick', labelsize=12)"
   ]
  },
  {
   "cell_type": "markdown",
   "metadata": {},
   "source": [
    "Fetching Dataset"
   ]
  },
  {
   "cell_type": "code",
   "execution_count": 349,
   "metadata": {},
   "outputs": [],
   "source": [
    "url = \"https://raw.githubusercontent.com/ageron/handson-ml2/master/datasets/housing/housing.tgz\"\n",
    "path = os.path.join(\"datasets\", \"housing\") \n",
    "filepath = os.path.join(path, \"housing.tgz\")\n",
    "\n",
    "if not os.path.isdir(path):\n",
    "        os.makedirs(path)\n",
    "        \n",
    "urllib.request.urlretrieve(url, filepath)\n",
    "housing_tgz = tarfile.open(filepath)\n",
    "housing_tgz.extractall(path=path)\n",
    "housing_tgz.close()"
   ]
  },
  {
   "cell_type": "markdown",
   "metadata": {},
   "source": [
    "Load Dataset"
   ]
  },
  {
   "cell_type": "code",
   "execution_count": 350,
   "metadata": {},
   "outputs": [
    {
     "data": {
      "text/html": [
       "<div>\n",
       "<style scoped>\n",
       "    .dataframe tbody tr th:only-of-type {\n",
       "        vertical-align: middle;\n",
       "    }\n",
       "\n",
       "    .dataframe tbody tr th {\n",
       "        vertical-align: top;\n",
       "    }\n",
       "\n",
       "    .dataframe thead th {\n",
       "        text-align: right;\n",
       "    }\n",
       "</style>\n",
       "<table border=\"1\" class=\"dataframe\">\n",
       "  <thead>\n",
       "    <tr style=\"text-align: right;\">\n",
       "      <th></th>\n",
       "      <th>longitude</th>\n",
       "      <th>latitude</th>\n",
       "      <th>housing_median_age</th>\n",
       "      <th>total_rooms</th>\n",
       "      <th>total_bedrooms</th>\n",
       "      <th>population</th>\n",
       "      <th>households</th>\n",
       "      <th>median_income</th>\n",
       "      <th>median_house_value</th>\n",
       "      <th>ocean_proximity</th>\n",
       "    </tr>\n",
       "  </thead>\n",
       "  <tbody>\n",
       "    <tr>\n",
       "      <th>0</th>\n",
       "      <td>-122.23</td>\n",
       "      <td>37.88</td>\n",
       "      <td>41.0</td>\n",
       "      <td>880.0</td>\n",
       "      <td>129.0</td>\n",
       "      <td>322.0</td>\n",
       "      <td>126.0</td>\n",
       "      <td>8.3252</td>\n",
       "      <td>452600.0</td>\n",
       "      <td>NEAR BAY</td>\n",
       "    </tr>\n",
       "    <tr>\n",
       "      <th>1</th>\n",
       "      <td>-122.22</td>\n",
       "      <td>37.86</td>\n",
       "      <td>21.0</td>\n",
       "      <td>7099.0</td>\n",
       "      <td>1106.0</td>\n",
       "      <td>2401.0</td>\n",
       "      <td>1138.0</td>\n",
       "      <td>8.3014</td>\n",
       "      <td>358500.0</td>\n",
       "      <td>NEAR BAY</td>\n",
       "    </tr>\n",
       "    <tr>\n",
       "      <th>2</th>\n",
       "      <td>-122.24</td>\n",
       "      <td>37.85</td>\n",
       "      <td>52.0</td>\n",
       "      <td>1467.0</td>\n",
       "      <td>190.0</td>\n",
       "      <td>496.0</td>\n",
       "      <td>177.0</td>\n",
       "      <td>7.2574</td>\n",
       "      <td>352100.0</td>\n",
       "      <td>NEAR BAY</td>\n",
       "    </tr>\n",
       "  </tbody>\n",
       "</table>\n",
       "</div>"
      ],
      "text/plain": [
       "   longitude  latitude  housing_median_age  total_rooms  total_bedrooms  \\\n",
       "0    -122.23     37.88                41.0        880.0           129.0   \n",
       "1    -122.22     37.86                21.0       7099.0          1106.0   \n",
       "2    -122.24     37.85                52.0       1467.0           190.0   \n",
       "\n",
       "   population  households  median_income  median_house_value ocean_proximity  \n",
       "0       322.0       126.0         8.3252            452600.0        NEAR BAY  \n",
       "1      2401.0      1138.0         8.3014            358500.0        NEAR BAY  \n",
       "2       496.0       177.0         7.2574            352100.0        NEAR BAY  "
      ]
     },
     "execution_count": 350,
     "metadata": {},
     "output_type": "execute_result"
    }
   ],
   "source": [
    "df = pd.read_csv(\"datasets\\housing\\housing.csv\")\n",
    "df.head(3)"
   ]
  },
  {
   "cell_type": "code",
   "execution_count": 351,
   "metadata": {},
   "outputs": [
    {
     "name": "stdout",
     "output_type": "stream",
     "text": [
      "<class 'pandas.core.frame.DataFrame'>\n",
      "RangeIndex: 20640 entries, 0 to 20639\n",
      "Data columns (total 10 columns):\n",
      " #   Column              Non-Null Count  Dtype  \n",
      "---  ------              --------------  -----  \n",
      " 0   longitude           20640 non-null  float64\n",
      " 1   latitude            20640 non-null  float64\n",
      " 2   housing_median_age  20640 non-null  float64\n",
      " 3   total_rooms         20640 non-null  float64\n",
      " 4   total_bedrooms      20433 non-null  float64\n",
      " 5   population          20640 non-null  float64\n",
      " 6   households          20640 non-null  float64\n",
      " 7   median_income       20640 non-null  float64\n",
      " 8   median_house_value  20640 non-null  float64\n",
      " 9   ocean_proximity     20640 non-null  object \n",
      "dtypes: float64(9), object(1)\n",
      "memory usage: 1.6+ MB\n"
     ]
    }
   ],
   "source": [
    "df.info()"
   ]
  },
  {
   "cell_type": "markdown",
   "metadata": {},
   "source": [
    "Object dtype"
   ]
  },
  {
   "cell_type": "code",
   "execution_count": 352,
   "metadata": {},
   "outputs": [
    {
     "data": {
      "text/plain": [
       "<1H OCEAN     9136\n",
       "INLAND        6551\n",
       "NEAR OCEAN    2658\n",
       "NEAR BAY      2290\n",
       "ISLAND           5\n",
       "Name: ocean_proximity, dtype: int64"
      ]
     },
     "execution_count": 352,
     "metadata": {},
     "output_type": "execute_result"
    }
   ],
   "source": [
    "df['ocean_proximity'].value_counts()"
   ]
  },
  {
   "cell_type": "markdown",
   "metadata": {},
   "source": [
    "Missing Values"
   ]
  },
  {
   "cell_type": "code",
   "execution_count": 353,
   "metadata": {},
   "outputs": [
    {
     "data": {
      "text/html": [
       "<div>\n",
       "<style scoped>\n",
       "    .dataframe tbody tr th:only-of-type {\n",
       "        vertical-align: middle;\n",
       "    }\n",
       "\n",
       "    .dataframe tbody tr th {\n",
       "        vertical-align: top;\n",
       "    }\n",
       "\n",
       "    .dataframe thead th {\n",
       "        text-align: right;\n",
       "    }\n",
       "</style>\n",
       "<table border=\"1\" class=\"dataframe\">\n",
       "  <thead>\n",
       "    <tr style=\"text-align: right;\">\n",
       "      <th></th>\n",
       "      <th>missing</th>\n",
       "      <th>percent</th>\n",
       "    </tr>\n",
       "  </thead>\n",
       "  <tbody>\n",
       "    <tr>\n",
       "      <th>longitude</th>\n",
       "      <td>0</td>\n",
       "      <td>0.000</td>\n",
       "    </tr>\n",
       "    <tr>\n",
       "      <th>latitude</th>\n",
       "      <td>0</td>\n",
       "      <td>0.000</td>\n",
       "    </tr>\n",
       "    <tr>\n",
       "      <th>housing_median_age</th>\n",
       "      <td>0</td>\n",
       "      <td>0.000</td>\n",
       "    </tr>\n",
       "    <tr>\n",
       "      <th>total_rooms</th>\n",
       "      <td>0</td>\n",
       "      <td>0.000</td>\n",
       "    </tr>\n",
       "    <tr>\n",
       "      <th>total_bedrooms</th>\n",
       "      <td>207</td>\n",
       "      <td>1.003</td>\n",
       "    </tr>\n",
       "    <tr>\n",
       "      <th>population</th>\n",
       "      <td>0</td>\n",
       "      <td>0.000</td>\n",
       "    </tr>\n",
       "    <tr>\n",
       "      <th>households</th>\n",
       "      <td>0</td>\n",
       "      <td>0.000</td>\n",
       "    </tr>\n",
       "    <tr>\n",
       "      <th>median_income</th>\n",
       "      <td>0</td>\n",
       "      <td>0.000</td>\n",
       "    </tr>\n",
       "    <tr>\n",
       "      <th>median_house_value</th>\n",
       "      <td>0</td>\n",
       "      <td>0.000</td>\n",
       "    </tr>\n",
       "    <tr>\n",
       "      <th>ocean_proximity</th>\n",
       "      <td>0</td>\n",
       "      <td>0.000</td>\n",
       "    </tr>\n",
       "  </tbody>\n",
       "</table>\n",
       "</div>"
      ],
      "text/plain": [
       "                    missing  percent\n",
       "longitude                 0    0.000\n",
       "latitude                  0    0.000\n",
       "housing_median_age        0    0.000\n",
       "total_rooms               0    0.000\n",
       "total_bedrooms          207    1.003\n",
       "population                0    0.000\n",
       "households                0    0.000\n",
       "median_income             0    0.000\n",
       "median_house_value        0    0.000\n",
       "ocean_proximity           0    0.000"
      ]
     },
     "execution_count": 353,
     "metadata": {},
     "output_type": "execute_result"
    }
   ],
   "source": [
    "df_nullinfos = pd.DataFrame({'missing': df.isnull().sum(), 'percent': df.isnull().mean().round(5) * 100})\n",
    "df_nullinfos"
   ]
  },
  {
   "cell_type": "markdown",
   "metadata": {},
   "source": [
    "Data Statistics"
   ]
  },
  {
   "cell_type": "code",
   "execution_count": 354,
   "metadata": {},
   "outputs": [
    {
     "data": {
      "text/html": [
       "<div>\n",
       "<style scoped>\n",
       "    .dataframe tbody tr th:only-of-type {\n",
       "        vertical-align: middle;\n",
       "    }\n",
       "\n",
       "    .dataframe tbody tr th {\n",
       "        vertical-align: top;\n",
       "    }\n",
       "\n",
       "    .dataframe thead th {\n",
       "        text-align: right;\n",
       "    }\n",
       "</style>\n",
       "<table border=\"1\" class=\"dataframe\">\n",
       "  <thead>\n",
       "    <tr style=\"text-align: right;\">\n",
       "      <th></th>\n",
       "      <th>longitude</th>\n",
       "      <th>latitude</th>\n",
       "      <th>housing_median_age</th>\n",
       "      <th>total_rooms</th>\n",
       "      <th>total_bedrooms</th>\n",
       "      <th>population</th>\n",
       "      <th>households</th>\n",
       "      <th>median_income</th>\n",
       "      <th>median_house_value</th>\n",
       "    </tr>\n",
       "  </thead>\n",
       "  <tbody>\n",
       "    <tr>\n",
       "      <th>count</th>\n",
       "      <td>20640.000000</td>\n",
       "      <td>20640.000000</td>\n",
       "      <td>20640.000000</td>\n",
       "      <td>20640.000000</td>\n",
       "      <td>20433.000000</td>\n",
       "      <td>20640.000000</td>\n",
       "      <td>20640.000000</td>\n",
       "      <td>20640.000000</td>\n",
       "      <td>20640.000000</td>\n",
       "    </tr>\n",
       "    <tr>\n",
       "      <th>mean</th>\n",
       "      <td>-119.569704</td>\n",
       "      <td>35.631861</td>\n",
       "      <td>28.639486</td>\n",
       "      <td>2635.763081</td>\n",
       "      <td>537.870553</td>\n",
       "      <td>1425.476744</td>\n",
       "      <td>499.539680</td>\n",
       "      <td>3.870671</td>\n",
       "      <td>206855.816909</td>\n",
       "    </tr>\n",
       "    <tr>\n",
       "      <th>std</th>\n",
       "      <td>2.003532</td>\n",
       "      <td>2.135952</td>\n",
       "      <td>12.585558</td>\n",
       "      <td>2181.615252</td>\n",
       "      <td>421.385070</td>\n",
       "      <td>1132.462122</td>\n",
       "      <td>382.329753</td>\n",
       "      <td>1.899822</td>\n",
       "      <td>115395.615874</td>\n",
       "    </tr>\n",
       "    <tr>\n",
       "      <th>min</th>\n",
       "      <td>-124.350000</td>\n",
       "      <td>32.540000</td>\n",
       "      <td>1.000000</td>\n",
       "      <td>2.000000</td>\n",
       "      <td>1.000000</td>\n",
       "      <td>3.000000</td>\n",
       "      <td>1.000000</td>\n",
       "      <td>0.499900</td>\n",
       "      <td>14999.000000</td>\n",
       "    </tr>\n",
       "    <tr>\n",
       "      <th>25%</th>\n",
       "      <td>-121.800000</td>\n",
       "      <td>33.930000</td>\n",
       "      <td>18.000000</td>\n",
       "      <td>1447.750000</td>\n",
       "      <td>296.000000</td>\n",
       "      <td>787.000000</td>\n",
       "      <td>280.000000</td>\n",
       "      <td>2.563400</td>\n",
       "      <td>119600.000000</td>\n",
       "    </tr>\n",
       "    <tr>\n",
       "      <th>50%</th>\n",
       "      <td>-118.490000</td>\n",
       "      <td>34.260000</td>\n",
       "      <td>29.000000</td>\n",
       "      <td>2127.000000</td>\n",
       "      <td>435.000000</td>\n",
       "      <td>1166.000000</td>\n",
       "      <td>409.000000</td>\n",
       "      <td>3.534800</td>\n",
       "      <td>179700.000000</td>\n",
       "    </tr>\n",
       "    <tr>\n",
       "      <th>75%</th>\n",
       "      <td>-118.010000</td>\n",
       "      <td>37.710000</td>\n",
       "      <td>37.000000</td>\n",
       "      <td>3148.000000</td>\n",
       "      <td>647.000000</td>\n",
       "      <td>1725.000000</td>\n",
       "      <td>605.000000</td>\n",
       "      <td>4.743250</td>\n",
       "      <td>264725.000000</td>\n",
       "    </tr>\n",
       "    <tr>\n",
       "      <th>max</th>\n",
       "      <td>-114.310000</td>\n",
       "      <td>41.950000</td>\n",
       "      <td>52.000000</td>\n",
       "      <td>39320.000000</td>\n",
       "      <td>6445.000000</td>\n",
       "      <td>35682.000000</td>\n",
       "      <td>6082.000000</td>\n",
       "      <td>15.000100</td>\n",
       "      <td>500001.000000</td>\n",
       "    </tr>\n",
       "  </tbody>\n",
       "</table>\n",
       "</div>"
      ],
      "text/plain": [
       "          longitude      latitude  housing_median_age   total_rooms  \\\n",
       "count  20640.000000  20640.000000        20640.000000  20640.000000   \n",
       "mean    -119.569704     35.631861           28.639486   2635.763081   \n",
       "std        2.003532      2.135952           12.585558   2181.615252   \n",
       "min     -124.350000     32.540000            1.000000      2.000000   \n",
       "25%     -121.800000     33.930000           18.000000   1447.750000   \n",
       "50%     -118.490000     34.260000           29.000000   2127.000000   \n",
       "75%     -118.010000     37.710000           37.000000   3148.000000   \n",
       "max     -114.310000     41.950000           52.000000  39320.000000   \n",
       "\n",
       "       total_bedrooms    population    households  median_income  \\\n",
       "count    20433.000000  20640.000000  20640.000000   20640.000000   \n",
       "mean       537.870553   1425.476744    499.539680       3.870671   \n",
       "std        421.385070   1132.462122    382.329753       1.899822   \n",
       "min          1.000000      3.000000      1.000000       0.499900   \n",
       "25%        296.000000    787.000000    280.000000       2.563400   \n",
       "50%        435.000000   1166.000000    409.000000       3.534800   \n",
       "75%        647.000000   1725.000000    605.000000       4.743250   \n",
       "max       6445.000000  35682.000000   6082.000000      15.000100   \n",
       "\n",
       "       median_house_value  \n",
       "count        20640.000000  \n",
       "mean        206855.816909  \n",
       "std         115395.615874  \n",
       "min          14999.000000  \n",
       "25%         119600.000000  \n",
       "50%         179700.000000  \n",
       "75%         264725.000000  \n",
       "max         500001.000000  "
      ]
     },
     "execution_count": 354,
     "metadata": {},
     "output_type": "execute_result"
    }
   ],
   "source": [
    "df.describe()"
   ]
  },
  {
   "cell_type": "markdown",
   "metadata": {},
   "source": [
    "Correlations"
   ]
  },
  {
   "cell_type": "code",
   "execution_count": 355,
   "metadata": {},
   "outputs": [],
   "source": [
    "#Making a copy of the original df to work with\n",
    "housing = df.copy()\n"
   ]
  },
  {
   "cell_type": "code",
   "execution_count": 356,
   "metadata": {},
   "outputs": [
    {
     "data": {
      "text/plain": [
       "median_house_value    1.000000\n",
       "median_income         0.688075\n",
       "total_rooms           0.134153\n",
       "housing_median_age    0.105623\n",
       "households            0.065843\n",
       "total_bedrooms        0.049686\n",
       "population           -0.024650\n",
       "longitude            -0.045967\n",
       "latitude             -0.144160\n",
       "Name: median_house_value, dtype: float64"
      ]
     },
     "execution_count": 356,
     "metadata": {},
     "output_type": "execute_result"
    }
   ],
   "source": [
    "corr_matrix = housing.corr()\n",
    "corr_matrix[\"median_house_value\"].sort_values(ascending=False)"
   ]
  },
  {
   "cell_type": "markdown",
   "metadata": {},
   "source": [
    "Categorizing Median Income"
   ]
  },
  {
   "cell_type": "code",
   "execution_count": 357,
   "metadata": {},
   "outputs": [
    {
     "data": {
      "image/png": "[encoded data removed]",
      "text/plain": [
       "<Figure size 576x432 with 1 Axes>"
      ]
     },
     "metadata": {
      "needs_background": "light"
     },
     "output_type": "display_data"
    }
   ],
   "source": [
    "#Median Income appears to be a very important feature\n",
    "#We are going to create income categories and stratify split the dataset based on those categories\n",
    "housing.hist('median_income',bins = 50, figsize=(8,6))\n",
    "plt.show()"
   ]
  },
  {
   "cell_type": "code",
   "execution_count": 358,
   "metadata": {},
   "outputs": [
    {
     "data": {
      "text/plain": [
       "<AxesSubplot:>"
      ]
     },
     "execution_count": 358,
     "metadata": {},
     "output_type": "execute_result"
    },
    {
     "data": {
      "image/png": "[encoded data removed]",
      "text/plain": [
       "<Figure size 720x720 with 1 Axes>"
      ]
     },
     "metadata": {
      "needs_background": "light"
     },
     "output_type": "display_data"
    }
   ],
   "source": [
    "housing.boxplot('median_income', figsize=(10,10))"
   ]
  },
  {
   "cell_type": "code",
   "execution_count": 359,
   "metadata": {},
   "outputs": [],
   "source": [
    "#Cutting to create categories\n",
    "# bins = [0., 2.2, 3.8, 5, 8., 12., 14., np.inf]\n",
    "#min, 25%, 50%, 75%, max, outliers ....\n",
    "bins = [0., 2.5, 3.5, 4.7, 8, np.inf]\n",
    "housing['income_cat'] = pd.cut(housing[\"median_income\"], bins = bins, labels = range(len(bins)-1)) "
   ]
  },
  {
   "cell_type": "code",
   "execution_count": 360,
   "metadata": {},
   "outputs": [
    {
     "data": {
      "text/plain": [
       "<AxesSubplot:>"
      ]
     },
     "execution_count": 360,
     "metadata": {},
     "output_type": "execute_result"
    },
    {
     "data": {
      "image/png": "[encoded data removed]",
      "text/plain": [
       "<Figure size 432x288 with 1 Axes>"
      ]
     },
     "metadata": {
      "needs_background": "light"
     },
     "output_type": "display_data"
    }
   ],
   "source": [
    "housing[\"income_cat\"].hist()"
   ]
  },
  {
   "cell_type": "markdown",
   "metadata": {},
   "source": [
    "Stratified Spliting"
   ]
  },
  {
   "cell_type": "code",
   "execution_count": 361,
   "metadata": {},
   "outputs": [
    {
     "name": "stdout",
     "output_type": "stream",
     "text": [
      "1    0.257631\n",
      "2    0.252422\n",
      "0    0.232800\n",
      "3    0.223716\n",
      "4    0.033430\n",
      "Name: income_cat, dtype: float64\n",
      "1    0.257752\n",
      "2    0.252422\n",
      "0    0.232800\n",
      "3    0.223595\n",
      "4    0.033430\n",
      "Name: income_cat, dtype: float64\n"
     ]
    },
    {
     "data": {
      "text/html": [
       "<div>\n",
       "<style scoped>\n",
       "    .dataframe tbody tr th:only-of-type {\n",
       "        vertical-align: middle;\n",
       "    }\n",
       "\n",
       "    .dataframe tbody tr th {\n",
       "        vertical-align: top;\n",
       "    }\n",
       "\n",
       "    .dataframe thead th {\n",
       "        text-align: right;\n",
       "    }\n",
       "</style>\n",
       "<table border=\"1\" class=\"dataframe\">\n",
       "  <thead>\n",
       "    <tr style=\"text-align: right;\">\n",
       "      <th></th>\n",
       "      <th>longitude</th>\n",
       "      <th>latitude</th>\n",
       "      <th>housing_median_age</th>\n",
       "      <th>total_rooms</th>\n",
       "      <th>total_bedrooms</th>\n",
       "      <th>population</th>\n",
       "      <th>households</th>\n",
       "      <th>median_income</th>\n",
       "      <th>median_house_value</th>\n",
       "      <th>ocean_proximity</th>\n",
       "    </tr>\n",
       "  </thead>\n",
       "  <tbody>\n",
       "    <tr>\n",
       "      <th>12040</th>\n",
       "      <td>-117.48</td>\n",
       "      <td>33.89</td>\n",
       "      <td>14.0</td>\n",
       "      <td>10395.0</td>\n",
       "      <td>1799.0</td>\n",
       "      <td>6295.0</td>\n",
       "      <td>1855.0</td>\n",
       "      <td>4.7295</td>\n",
       "      <td>149900.0</td>\n",
       "      <td>INLAND</td>\n",
       "    </tr>\n",
       "    <tr>\n",
       "      <th>15822</th>\n",
       "      <td>-122.42</td>\n",
       "      <td>37.75</td>\n",
       "      <td>52.0</td>\n",
       "      <td>801.0</td>\n",
       "      <td>272.0</td>\n",
       "      <td>639.0</td>\n",
       "      <td>259.0</td>\n",
       "      <td>2.1971</td>\n",
       "      <td>275000.0</td>\n",
       "      <td>NEAR BAY</td>\n",
       "    </tr>\n",
       "    <tr>\n",
       "      <th>5850</th>\n",
       "      <td>-118.32</td>\n",
       "      <td>34.18</td>\n",
       "      <td>49.0</td>\n",
       "      <td>192.0</td>\n",
       "      <td>41.0</td>\n",
       "      <td>83.0</td>\n",
       "      <td>38.0</td>\n",
       "      <td>3.0179</td>\n",
       "      <td>118800.0</td>\n",
       "      <td>&lt;1H OCEAN</td>\n",
       "    </tr>\n",
       "    <tr>\n",
       "      <th>3113</th>\n",
       "      <td>-117.66</td>\n",
       "      <td>35.62</td>\n",
       "      <td>11.0</td>\n",
       "      <td>5897.0</td>\n",
       "      <td>1138.0</td>\n",
       "      <td>2728.0</td>\n",
       "      <td>1072.0</td>\n",
       "      <td>4.1500</td>\n",
       "      <td>85700.0</td>\n",
       "      <td>INLAND</td>\n",
       "    </tr>\n",
       "    <tr>\n",
       "      <th>13307</th>\n",
       "      <td>-117.62</td>\n",
       "      <td>34.08</td>\n",
       "      <td>24.0</td>\n",
       "      <td>2801.0</td>\n",
       "      <td>554.0</td>\n",
       "      <td>2064.0</td>\n",
       "      <td>529.0</td>\n",
       "      <td>4.4946</td>\n",
       "      <td>136000.0</td>\n",
       "      <td>INLAND</td>\n",
       "    </tr>\n",
       "  </tbody>\n",
       "</table>\n",
       "</div>"
      ],
      "text/plain": [
       "       longitude  latitude  housing_median_age  total_rooms  total_bedrooms  \\\n",
       "12040    -117.48     33.89                14.0      10395.0          1799.0   \n",
       "15822    -122.42     37.75                52.0        801.0           272.0   \n",
       "5850     -118.32     34.18                49.0        192.0            41.0   \n",
       "3113     -117.66     35.62                11.0       5897.0          1138.0   \n",
       "13307    -117.62     34.08                24.0       2801.0           554.0   \n",
       "\n",
       "       population  households  median_income  median_house_value  \\\n",
       "12040      6295.0      1855.0         4.7295            149900.0   \n",
       "15822       639.0       259.0         2.1971            275000.0   \n",
       "5850         83.0        38.0         3.0179            118800.0   \n",
       "3113       2728.0      1072.0         4.1500             85700.0   \n",
       "13307      2064.0       529.0         4.4946            136000.0   \n",
       "\n",
       "      ocean_proximity  \n",
       "12040          INLAND  \n",
       "15822        NEAR BAY  \n",
       "5850        <1H OCEAN  \n",
       "3113           INLAND  \n",
       "13307          INLAND  "
      ]
     },
     "execution_count": 361,
     "metadata": {},
     "output_type": "execute_result"
    }
   ],
   "source": [
    "sss = StratifiedShuffleSplit(n_splits=1, test_size= 0.2, random_state= 42)\n",
    "for train_index, test_index in sss.split(housing, housing['income_cat']):\n",
    "    train_set = housing.loc[train_index]\n",
    "    test_set = housing.loc[test_index]\n",
    "\n",
    "print(train_set[\"income_cat\"].value_counts()/len(train_set))\n",
    "print(test_set[\"income_cat\"].value_counts()/len(test_set))\n",
    "\n",
    "#We do not need the income_cat anymore, it was only used to stratifysplit so we can remove it\n",
    "for dataset in [train_set, test_set]:\n",
    "    dataset.drop('income_cat', axis=1, inplace=True)\n",
    "\n",
    "train_set.head()"
   ]
  },
  {
   "cell_type": "markdown",
   "metadata": {},
   "source": [
    "Correlations and feature engineering"
   ]
  },
  {
   "cell_type": "code",
   "execution_count": 362,
   "metadata": {},
   "outputs": [
    {
     "data": {
      "text/html": [
       "<div>\n",
       "<style scoped>\n",
       "    .dataframe tbody tr th:only-of-type {\n",
       "        vertical-align: middle;\n",
       "    }\n",
       "\n",
       "    .dataframe tbody tr th {\n",
       "        vertical-align: top;\n",
       "    }\n",
       "\n",
       "    .dataframe thead th {\n",
       "        text-align: right;\n",
       "    }\n",
       "</style>\n",
       "<table border=\"1\" class=\"dataframe\">\n",
       "  <thead>\n",
       "    <tr style=\"text-align: right;\">\n",
       "      <th></th>\n",
       "      <th>longitude</th>\n",
       "      <th>latitude</th>\n",
       "      <th>housing_median_age</th>\n",
       "      <th>total_rooms</th>\n",
       "      <th>total_bedrooms</th>\n",
       "      <th>population</th>\n",
       "      <th>households</th>\n",
       "      <th>median_income</th>\n",
       "      <th>median_house_value</th>\n",
       "      <th>ocean_proximity</th>\n",
       "    </tr>\n",
       "  </thead>\n",
       "  <tbody>\n",
       "    <tr>\n",
       "      <th>12040</th>\n",
       "      <td>-117.48</td>\n",
       "      <td>33.89</td>\n",
       "      <td>14.0</td>\n",
       "      <td>10395.0</td>\n",
       "      <td>1799.0</td>\n",
       "      <td>6295.0</td>\n",
       "      <td>1855.0</td>\n",
       "      <td>4.7295</td>\n",
       "      <td>149900.0</td>\n",
       "      <td>INLAND</td>\n",
       "    </tr>\n",
       "  </tbody>\n",
       "</table>\n",
       "</div>"
      ],
      "text/plain": [
       "       longitude  latitude  housing_median_age  total_rooms  total_bedrooms  \\\n",
       "12040    -117.48     33.89                14.0      10395.0          1799.0   \n",
       "\n",
       "       population  households  median_income  median_house_value  \\\n",
       "12040      6295.0      1855.0         4.7295            149900.0   \n",
       "\n",
       "      ocean_proximity  \n",
       "12040          INLAND  "
      ]
     },
     "execution_count": 362,
     "metadata": {},
     "output_type": "execute_result"
    }
   ],
   "source": [
    "#We are going to leave the test set alone for now and make a copy of the new trainset\n",
    "housing = train_set.copy()\n",
    "housing.head(1)"
   ]
  },
  {
   "cell_type": "code",
   "execution_count": 363,
   "metadata": {},
   "outputs": [
    {
     "data": {
      "text/plain": [
       "<AxesSubplot:>"
      ]
     },
     "execution_count": 363,
     "metadata": {},
     "output_type": "execute_result"
    },
    {
     "data": {
      "image/png": "[encoded data removed]",
      "text/plain": [
       "<Figure size 1296x576 with 2 Axes>"
      ]
     },
     "metadata": {
      "needs_background": "light"
     },
     "output_type": "display_data"
    }
   ],
   "source": [
    "corr_matrix = housing.corr()\n",
    "fig,ax = plt.subplots(1,1,figsize=(18,8))\n",
    "sns.heatmap(corr_matrix, cmap=\"mako\", square=True, annot= True, linewidths=1,linecolor=(0.1,0.2,0.2), ax = ax)\n"
   ]
  },
  {
   "cell_type": "code",
   "execution_count": 364,
   "metadata": {},
   "outputs": [
    {
     "data": {
      "text/plain": [
       "<AxesSubplot:xlabel='median_income', ylabel='median_house_value'>"
      ]
     },
     "execution_count": 364,
     "metadata": {},
     "output_type": "execute_result"
    },
    {
     "data": {
      "image/png": "[encoded data removed]",
      "text/plain": [
       "<Figure size 432x288 with 1 Axes>"
      ]
     },
     "metadata": {
      "needs_background": "light"
     },
     "output_type": "display_data"
    }
   ],
   "source": [
    "housing.plot(kind=\"scatter\", x=\"median_income\", y=\"median_house_value\", alpha = 0.1)"
   ]
  },
  {
   "cell_type": "markdown",
   "metadata": {},
   "source": [
    "There appear to be caps at approximately 500k, 450k, 350k, and 200k ish, sign of poor data, we might have to drop some of these caps"
   ]
  },
  {
   "cell_type": "code",
   "execution_count": 365,
   "metadata": {},
   "outputs": [
    {
     "data": {
      "text/plain": [
       "longitude             762\n",
       "latitude              762\n",
       "housing_median_age    762\n",
       "total_rooms           762\n",
       "total_bedrooms        758\n",
       "population            762\n",
       "households            762\n",
       "median_income         762\n",
       "median_house_value    762\n",
       "ocean_proximity       762\n",
       "dtype: int64"
      ]
     },
     "execution_count": 365,
     "metadata": {},
     "output_type": "execute_result"
    }
   ],
   "source": [
    "#Lets take a look at those, 762 appear to be at the max value cap which is 500,001\n",
    "#We should probably remove these outliers\n",
    "housing.loc[housing.median_house_value >= 500001].count()"
   ]
  },
  {
   "cell_type": "markdown",
   "metadata": {},
   "source": [
    "Lets try to find and create some useful features"
   ]
  },
  {
   "cell_type": "code",
   "execution_count": 366,
   "metadata": {},
   "outputs": [
    {
     "data": {
      "text/plain": [
       "median_house_value    1.000000\n",
       "median_income         0.686814\n",
       "total_rooms           0.137268\n",
       "housing_median_age    0.107935\n",
       "households            0.071038\n",
       "total_bedrooms        0.055152\n",
       "population           -0.020526\n",
       "longitude            -0.042714\n",
       "latitude             -0.148492\n",
       "Name: median_house_value, dtype: float64"
      ]
     },
     "execution_count": 366,
     "metadata": {},
     "output_type": "execute_result"
    }
   ],
   "source": [
    "corr_matrix = housing.corr()\n",
    "corr_matrix[\"median_house_value\"].sort_values(ascending=False)"
   ]
  },
  {
   "cell_type": "code",
   "execution_count": 367,
   "metadata": {},
   "outputs": [],
   "source": [
    "#Median income is dropped from the feature generation as it is already veeeery correlated to house value\n",
    "insigfeatures = [\"ocean_proximity\", \"longitude\", \"latitude\", \"median_house_value\", \"median_income\"]\n",
    "features = [feature for feature in list(housing.columns) if feature not in insigfeatures]\n",
    "for feature1 in features:\n",
    "    for feature2 in features:\n",
    "        if feature1 != feature2:\n",
    "            housing[f'{feature1}_per_{feature2}'] = housing[feature1]/housing[feature2]"
   ]
  },
  {
   "cell_type": "code",
   "execution_count": 368,
   "metadata": {},
   "outputs": [
    {
     "data": {
      "text/plain": [
       "median_house_value                1.000000\n",
       "median_income                     0.686814\n",
       "total_rooms_per_total_bedrooms    0.380568\n",
       "households_per_population         0.262637\n",
       "households_per_total_rooms       -0.209017\n",
       "total_bedrooms_per_total_rooms   -0.249738\n",
       "Name: median_house_value, dtype: float64"
      ]
     },
     "execution_count": 368,
     "metadata": {},
     "output_type": "execute_result"
    }
   ],
   "source": [
    "corr_matrix = housing.corr()\n",
    "importantMatrix = corr_matrix[\"median_house_value\"].sort_values(ascending=False)\n",
    "importantMatrix.where(abs(importantMatrix) > 0.2).dropna()\n"
   ]
  },
  {
   "cell_type": "markdown",
   "metadata": {},
   "source": [
    "We can see that the most influential new features lets try making a transformer that creates these features for us"
   ]
  },
  {
   "cell_type": "code",
   "execution_count": 369,
   "metadata": {},
   "outputs": [
    {
     "data": {
      "text/html": [
       "<div>\n",
       "<style scoped>\n",
       "    .dataframe tbody tr th:only-of-type {\n",
       "        vertical-align: middle;\n",
       "    }\n",
       "\n",
       "    .dataframe tbody tr th {\n",
       "        vertical-align: top;\n",
       "    }\n",
       "\n",
       "    .dataframe thead th {\n",
       "        text-align: right;\n",
       "    }\n",
       "</style>\n",
       "<table border=\"1\" class=\"dataframe\">\n",
       "  <thead>\n",
       "    <tr style=\"text-align: right;\">\n",
       "      <th></th>\n",
       "      <th>longitude</th>\n",
       "      <th>latitude</th>\n",
       "      <th>housing_median_age</th>\n",
       "      <th>total_rooms</th>\n",
       "      <th>total_bedrooms</th>\n",
       "      <th>population</th>\n",
       "      <th>households</th>\n",
       "      <th>median_income</th>\n",
       "      <th>ocean_proximity</th>\n",
       "    </tr>\n",
       "  </thead>\n",
       "  <tbody>\n",
       "    <tr>\n",
       "      <th>12040</th>\n",
       "      <td>-117.48</td>\n",
       "      <td>33.89</td>\n",
       "      <td>14.0</td>\n",
       "      <td>10395.0</td>\n",
       "      <td>1799.0</td>\n",
       "      <td>6295.0</td>\n",
       "      <td>1855.0</td>\n",
       "      <td>4.7295</td>\n",
       "      <td>INLAND</td>\n",
       "    </tr>\n",
       "    <tr>\n",
       "      <th>15822</th>\n",
       "      <td>-122.42</td>\n",
       "      <td>37.75</td>\n",
       "      <td>52.0</td>\n",
       "      <td>801.0</td>\n",
       "      <td>272.0</td>\n",
       "      <td>639.0</td>\n",
       "      <td>259.0</td>\n",
       "      <td>2.1971</td>\n",
       "      <td>NEAR BAY</td>\n",
       "    </tr>\n",
       "    <tr>\n",
       "      <th>5850</th>\n",
       "      <td>-118.32</td>\n",
       "      <td>34.18</td>\n",
       "      <td>49.0</td>\n",
       "      <td>192.0</td>\n",
       "      <td>41.0</td>\n",
       "      <td>83.0</td>\n",
       "      <td>38.0</td>\n",
       "      <td>3.0179</td>\n",
       "      <td>&lt;1H OCEAN</td>\n",
       "    </tr>\n",
       "  </tbody>\n",
       "</table>\n",
       "</div>"
      ],
      "text/plain": [
       "       longitude  latitude  housing_median_age  total_rooms  total_bedrooms  \\\n",
       "12040    -117.48     33.89                14.0      10395.0          1799.0   \n",
       "15822    -122.42     37.75                52.0        801.0           272.0   \n",
       "5850     -118.32     34.18                49.0        192.0            41.0   \n",
       "\n",
       "       population  households  median_income ocean_proximity  \n",
       "12040      6295.0      1855.0         4.7295          INLAND  \n",
       "15822       639.0       259.0         2.1971        NEAR BAY  \n",
       "5850         83.0        38.0         3.0179       <1H OCEAN  "
      ]
     },
     "execution_count": 369,
     "metadata": {},
     "output_type": "execute_result"
    }
   ],
   "source": [
    "housing = train_set.copy()\n",
    "housing = housing.drop(\"median_house_value\", axis = 1)\n",
    "housing.head(3)"
   ]
  },
  {
   "cell_type": "code",
   "execution_count": 370,
   "metadata": {},
   "outputs": [],
   "source": [
    "from sklearn.base import BaseEstimator, TransformerMixin\n",
    "#We want [total_rooms per total bedrooms] and [households per population] and [households per total rooms]\n",
    "\n",
    "rooms_ix, bedrooms_ix, population_ix, households_ix = 3, 4, 5, 6\n",
    "\n",
    "class CombinedAttributesAdder(BaseEstimator, TransformerMixin):\n",
    "    def __init__(self, add_rooms_per_bedrooms=True, add_households_per_population=True, add_households_per_total_rooms=True, switch= False):\n",
    "        self.add_rooms_per_bedrooms = add_rooms_per_bedrooms\n",
    "        self.add_households_per_population = add_households_per_population\n",
    "        self.add_households_per_total_rooms = add_households_per_total_rooms\n",
    "        self.switch = switch\n",
    "\n",
    "    def fit(self, X, y=None):\n",
    "        return self\n",
    "\n",
    "    def transform(self, X):\n",
    "        if self.switch:\n",
    "            if self.add_rooms_per_bedrooms:\n",
    "                rooms_per_bedrooms = X[:, bedrooms_ix] / X[:, rooms_ix]\n",
    "                X = np.c_[X, rooms_per_bedrooms]\n",
    "\n",
    "            if self.add_households_per_population:\n",
    "                households_per_population =  X[:, population_ix] / X[:, households_ix]\n",
    "                X = np.c_[X, households_per_population]\n",
    "\n",
    "            if self.add_households_per_total_rooms:\n",
    "                households_per_rooms = X[:, rooms_ix] / X[:, households_ix]\n",
    "                X = np.c_[X, households_per_rooms]\n",
    "        \n",
    "        else:\n",
    "            if self.add_rooms_per_bedrooms:\n",
    "                rooms_per_bedrooms = X[:, rooms_ix] / X[:, bedrooms_ix]\n",
    "                X = np.c_[X, rooms_per_bedrooms]\n",
    "\n",
    "            if self.add_households_per_population:\n",
    "                households_per_population = X[:,\n",
    "                                          households_ix] / X[:, population_ix]\n",
    "                X = np.c_[X, households_per_population]\n",
    "\n",
    "            if self.add_households_per_total_rooms:\n",
    "                households_per_rooms = X[:, households_ix] / X[:, rooms_ix]\n",
    "                X = np.c_[X, households_per_rooms]\n",
    "\n",
    "        return X"
   ]
  },
  {
   "cell_type": "code",
   "execution_count": 371,
   "metadata": {},
   "outputs": [
    {
     "data": {
      "text/plain": [
       "array([[ 1.04497936, -0.81768866, -1.15714592, ...,  0.        ,\n",
       "         0.        ,  0.        ],\n",
       "       [-1.4202229 ,  0.98835271,  1.85648135, ...,  0.        ,\n",
       "         1.        ,  0.        ],\n",
       "       [ 0.62579517, -0.68200162,  1.61856341, ...,  0.        ,\n",
       "         0.        ,  0.        ],\n",
       "       ...,\n",
       "       [ 0.93519302, -0.76622116, -1.07783994, ...,  0.        ,\n",
       "         0.        ,  0.        ],\n",
       "       [ 1.70868765, -0.70071707, -0.839922  , ...,  0.        ,\n",
       "         0.        ,  0.        ],\n",
       "       [ 0.74556208, -0.82236753,  0.11174977, ...,  0.        ,\n",
       "         0.        ,  0.        ]])"
      ]
     },
     "execution_count": 371,
     "metadata": {},
     "output_type": "execute_result"
    }
   ],
   "source": [
    "#Looks good so far, lets build the pipeline !\n",
    "from sklearn.pipeline import Pipeline\n",
    "from sklearn.model_selection import cross_val_score, GridSearchCV\n",
    "from sklearn.preprocessing import StandardScaler, OneHotEncoder\n",
    "from sklearn.impute import SimpleImputer\n",
    "from sklearn.compose import ColumnTransformer\n",
    "from sklearn.ensemble import RandomForestRegressor\n",
    "from sklearn.linear_model import ElasticNet, LinearRegression, Ridge, Lasso\n",
    "from sklearn.svm import SVR\n",
    "from sklearn.tree import DecisionTreeRegressor\n",
    "\n",
    "housing_num = housing.drop('ocean_proximity', axis = 1)\n",
    "\n",
    "X_train = train_set.copy().drop('median_house_value', axis = 1)\n",
    "X_test = test_set.copy().drop('median_house_value', axis = 1)\n",
    "y_train = train_set.copy()['median_house_value']\n",
    "y_test = test_set.copy()['median_house_value']\n",
    "\n",
    "\n",
    "\n",
    "num_attribs = list(housing_num)\n",
    "\n",
    "cat_attribs = ['ocean_proximity']\n",
    "\n",
    "num_transformer = Pipeline([('imputer', SimpleImputer(strategy=\"median\")),\n",
    "                            ('attribs_adder', CombinedAttributesAdder()),\n",
    "                            ('std_scaler', StandardScaler()),\n",
    "                            ])\n",
    "\n",
    "preprocessor = ColumnTransformer([('num', num_transformer, num_attribs),\n",
    "                                  ('cat', OneHotEncoder(), cat_attribs)])\n",
    "\n",
    "X_train = preprocessor.fit_transform(X_train)\n",
    "\n",
    "def display_scores(scores):\n",
    "    print('Scores:', scores)\n",
    "    print('Mean:', scores.mean())\n",
    "    print('Standard Deviation:', scores.std())\n",
    "\n",
    "X_train"
   ]
  },
  {
   "cell_type": "markdown",
   "metadata": {},
   "source": [
    "Looks like the best model so far is the RandomForestRegressor, lets fine tune this model"
   ]
  },
  {
   "cell_type": "code",
   "execution_count": 372,
   "metadata": {},
   "outputs": [
    {
     "name": "stdout",
     "output_type": "stream",
     "text": [
      "Fitting 2 folds for each of 1 candidates, totalling 2 fits\n",
      "[CV 1/2; 1/1] START bootstrap=False, max_depth=32, max_features=5, min_samples_leaf=3, min_samples_split=8, n_estimators=700\n",
      "[CV 2/2; 1/1] START bootstrap=False, max_depth=32, max_features=5, min_samples_leaf=3, min_samples_split=8, n_estimators=700\n",
      "[CV 2/2; 1/1] END bootstrap=False, max_depth=32, max_features=5, min_samples_leaf=3, min_samples_split=8, n_estimators=700;, score=(train=-414399790.021, test=-2552070367.375) total time=  19.3s\n",
      "[CV 1/2; 1/1] END bootstrap=False, max_depth=32, max_features=5, min_samples_leaf=3, min_samples_split=8, n_estimators=700;, score=(train=-443876437.652, test=-2407875871.562) total time=  19.6s\n"
     ]
    }
   ],
   "source": [
    "from joblib import parallel_backend\n",
    "\n",
    "# param_grid = {'n_estimators': np.arange(1, 100, 10), 'max_features': np.arange(1,10, 2), 'bootstrap': [True, False, None], 'max_depth': np.arange(10,200,50), 'min_samples_leaf': [3, 4, 5], 'min_samples_split': [8, 10, 12]}\n",
    "param_grid = {'bootstrap': [False], 'max_depth': [32], 'max_features': [5], 'n_estimators': [700], 'min_samples_leaf': [3], 'min_samples_split': [8]}\n",
    "\n",
    "rf_reg = RandomForestRegressor(random_state= 42)\n",
    "\n",
    "with parallel_backend('threading', n_jobs = 2):\n",
    "    grid_search = GridSearchCV(rf_reg, param_grid, cv=2, scoring= 'neg_mean_squared_error', return_train_score=True, verbose= 10, n_jobs= 2)\n",
    "    grid_search.fit(X_train, y_train)"
   ]
  },
  {
   "cell_type": "code",
   "execution_count": 373,
   "metadata": {},
   "outputs": [
    {
     "data": {
      "text/plain": [
       "{'bootstrap': False,\n",
       " 'max_depth': 32,\n",
       " 'max_features': 5,\n",
       " 'min_samples_leaf': 3,\n",
       " 'min_samples_split': 8,\n",
       " 'n_estimators': 700}"
      ]
     },
     "execution_count": 373,
     "metadata": {},
     "output_type": "execute_result"
    }
   ],
   "source": [
    "grid_search.best_params_\n",
    "#{'bootstrap': False,'max_depth': 32,'max_features': 5,'min_samples_leaf': 3,'min_samples_split': 8,'n_estimators': 700} 48714.36176501067\n",
    "#{'bootstrap': False, 'max_depth': 16, 'max_features': 6, 'n_estimators': 400}\n",
    "#{'bootstrap': False, 'max_depth': 30, 'max_features': 6, 'n_estimators': 500} 48887.59432926693\n",
    "#{'bootstrap': False, 'max_depth': 32, 'max_features': 5, 'n_estimators': 600} 48842.78551794277\n",
    "#{'bootstrap': False, 'max_depth': 32, 'max_features': 5, 'n_estimators': 700} 48799.66047929271\n",
    "#{'n_estimators': 900,'min_samples_split': 3,'min_samples_leaf': 1,'max_features': 5,'max_depth': 45,'bootstrap': False} 48811.34421225845"
   ]
  },
  {
   "cell_type": "code",
   "execution_count": 374,
   "metadata": {},
   "outputs": [
    {
     "data": {
      "text/plain": [
       "49799.32850419598"
      ]
     },
     "execution_count": 374,
     "metadata": {},
     "output_type": "execute_result"
    }
   ],
   "source": [
    "np.sqrt(-grid_search.best_score_)"
   ]
  },
  {
   "cell_type": "code",
   "execution_count": 375,
   "metadata": {},
   "outputs": [
    {
     "data": {
      "text/plain": [
       "[(0.32362103873292747, 'median_income'),\n",
       " (0.15694560037775462, 'INLAND'),\n",
       " (0.1038599845322387, 'households_per_population'),\n",
       " (0.08372448506915313, 'longitude'),\n",
       " (0.0771835272032578, 'latitude'),\n",
       " (0.0769156488639142, 'rooms_per_bedrooms'),\n",
       " (0.06349822832124681, 'households_per_room'),\n",
       " (0.036913243294414866, 'housing_median_age'),\n",
       " (0.015622761828615968, '<1H OCEAN'),\n",
       " (0.013727028031093142, 'total_rooms'),\n",
       " (0.012978217286034325, 'population'),\n",
       " (0.012092510583399458, 'total_bedrooms'),\n",
       " (0.011396138170543746, 'households'),\n",
       " (0.006979032946089637, 'NEAR OCEAN'),\n",
       " (0.004473214162618283, 'NEAR BAY'),\n",
       " (6.934059669778684e-05, 'ISLAND')]"
      ]
     },
     "execution_count": 375,
     "metadata": {},
     "output_type": "execute_result"
    }
   ],
   "source": [
    "feature_importance = grid_search.best_estimator_.feature_importances_\n",
    "extra_attribs = ['rooms_per_bedrooms', 'households_per_population', 'households_per_room']\n",
    "cat_encoder = preprocessor.named_transformers_['cat']\n",
    "cat_one_hot_attribs = list(cat_encoder.categories_[0])\n",
    "attribs = num_attribs + extra_attribs + cat_one_hot_attribs\n",
    "sorted(zip(feature_importance, attribs), reverse = True)"
   ]
  },
  {
   "cell_type": "markdown",
   "metadata": {},
   "source": [
    "Ok, now that we have a lot of information let us start over and try to remove some outliers and perhaps drop the missing values as well"
   ]
  },
  {
   "cell_type": "code",
   "execution_count": 376,
   "metadata": {},
   "outputs": [],
   "source": [
    "housing_train = train_set.copy()\n",
    "housing_test = test_set.copy()"
   ]
  },
  {
   "cell_type": "code",
   "execution_count": 377,
   "metadata": {},
   "outputs": [
    {
     "data": {
      "text/plain": [
       "<AxesSubplot:xlabel='median_income', ylabel='median_house_value'>"
      ]
     },
     "execution_count": 377,
     "metadata": {},
     "output_type": "execute_result"
    },
    {
     "data": {
      "image/png": "[encoded data removed]",
      "text/plain": [
       "<Figure size 432x288 with 1 Axes>"
      ]
     },
     "metadata": {
      "needs_background": "light"
     },
     "output_type": "display_data"
    }
   ],
   "source": [
    "housing_train.plot(kind=\"scatter\", x=\"median_income\", y=\"median_house_value\", alpha = 0.1)"
   ]
  },
  {
   "cell_type": "markdown",
   "metadata": {},
   "source": [
    "Removing outliers at 500,001"
   ]
  },
  {
   "cell_type": "code",
   "execution_count": 378,
   "metadata": {},
   "outputs": [],
   "source": [
    "class DataCleaner(BaseEstimator, TransformerMixin):\n",
    "    def __init__(self, drop_nulls = True, drop_outliers = True):\n",
    "        self.dropnulls = drop_nulls\n",
    "        self.dropouts = drop_outliers\n",
    "\n",
    "    def fit(self, X, y=None):\n",
    "        return self\n",
    "\n",
    "    def transform(self, X):\n",
    "        if self.dropnulls:\n",
    "            X = X.dropna()\n",
    "\n",
    "        if self.dropouts:\n",
    "            X = X.loc[(X.median_house_value != 500001)]\n",
    "\n",
    "        return X"
   ]
  },
  {
   "cell_type": "code",
   "execution_count": 379,
   "metadata": {},
   "outputs": [
    {
     "data": {
      "text/html": [
       "<div>\n",
       "<style scoped>\n",
       "    .dataframe tbody tr th:only-of-type {\n",
       "        vertical-align: middle;\n",
       "    }\n",
       "\n",
       "    .dataframe tbody tr th {\n",
       "        vertical-align: top;\n",
       "    }\n",
       "\n",
       "    .dataframe thead th {\n",
       "        text-align: right;\n",
       "    }\n",
       "</style>\n",
       "<table border=\"1\" class=\"dataframe\">\n",
       "  <thead>\n",
       "    <tr style=\"text-align: right;\">\n",
       "      <th></th>\n",
       "      <th>missing</th>\n",
       "      <th>percent</th>\n",
       "    </tr>\n",
       "  </thead>\n",
       "  <tbody>\n",
       "    <tr>\n",
       "      <th>longitude</th>\n",
       "      <td>0</td>\n",
       "      <td>0.000</td>\n",
       "    </tr>\n",
       "    <tr>\n",
       "      <th>latitude</th>\n",
       "      <td>0</td>\n",
       "      <td>0.000</td>\n",
       "    </tr>\n",
       "    <tr>\n",
       "      <th>housing_median_age</th>\n",
       "      <td>0</td>\n",
       "      <td>0.000</td>\n",
       "    </tr>\n",
       "    <tr>\n",
       "      <th>total_rooms</th>\n",
       "      <td>0</td>\n",
       "      <td>0.000</td>\n",
       "    </tr>\n",
       "    <tr>\n",
       "      <th>total_bedrooms</th>\n",
       "      <td>162</td>\n",
       "      <td>0.981</td>\n",
       "    </tr>\n",
       "    <tr>\n",
       "      <th>population</th>\n",
       "      <td>0</td>\n",
       "      <td>0.000</td>\n",
       "    </tr>\n",
       "    <tr>\n",
       "      <th>households</th>\n",
       "      <td>0</td>\n",
       "      <td>0.000</td>\n",
       "    </tr>\n",
       "    <tr>\n",
       "      <th>median_income</th>\n",
       "      <td>0</td>\n",
       "      <td>0.000</td>\n",
       "    </tr>\n",
       "    <tr>\n",
       "      <th>median_house_value</th>\n",
       "      <td>0</td>\n",
       "      <td>0.000</td>\n",
       "    </tr>\n",
       "    <tr>\n",
       "      <th>ocean_proximity</th>\n",
       "      <td>0</td>\n",
       "      <td>0.000</td>\n",
       "    </tr>\n",
       "  </tbody>\n",
       "</table>\n",
       "</div>"
      ],
      "text/plain": [
       "                    missing  percent\n",
       "longitude                 0    0.000\n",
       "latitude                  0    0.000\n",
       "housing_median_age        0    0.000\n",
       "total_rooms               0    0.000\n",
       "total_bedrooms          162    0.981\n",
       "population                0    0.000\n",
       "households                0    0.000\n",
       "median_income             0    0.000\n",
       "median_house_value        0    0.000\n",
       "ocean_proximity           0    0.000"
      ]
     },
     "execution_count": 379,
     "metadata": {},
     "output_type": "execute_result"
    }
   ],
   "source": [
    "#Lets look at some missing data\n",
    "df_nullinfos = pd.DataFrame({'missing': housing_train.isnull().sum(), 'percent': housing_train.isnull().mean().round(5) * 100})\n",
    "df_nullinfos"
   ]
  },
  {
   "cell_type": "code",
   "execution_count": 380,
   "metadata": {},
   "outputs": [],
   "source": [
    "def indices_of_top_k(arr, k):\n",
    "    return np.sort(np.argpartition(np.array(arr), -k)[-k:])\n",
    "\n",
    "\n",
    "class TopFeatureSelector(BaseEstimator, TransformerMixin):\n",
    "    def __init__(self, feature_importances, k = 5):\n",
    "        self.feature_importances = feature_importances\n",
    "        self.k = k\n",
    "\n",
    "    def fit(self, X, y=None):\n",
    "        self.feature_indices_ = indices_of_top_k(\n",
    "            self.feature_importances, self.k)\n",
    "        return self\n",
    "\n",
    "    def transform(self, X):\n",
    "        return X[:, self.feature_indices_]"
   ]
  },
  {
   "cell_type": "markdown",
   "metadata": {},
   "source": [
    "Build a new pipeline\n"
   ]
  },
  {
   "cell_type": "code",
   "execution_count": 744,
   "metadata": {},
   "outputs": [
    {
     "data": {
      "text/plain": [
       "0.8047705241042753"
      ]
     },
     "execution_count": 744,
     "metadata": {},
     "output_type": "execute_result"
    }
   ],
   "source": [
    "X = train_set.copy()\n",
    "cleaner = DataCleaner(True, True)\n",
    "X = cleaner.fit_transform(X)\n",
    "\n",
    "X_train = X.drop('median_house_value', axis = 1)\n",
    "y_train =  X['median_house_value']\n",
    "\n",
    "X = test_set.copy()\n",
    "X = cleaner.fit_transform(X)\n",
    "\n",
    "X_test = X.drop('median_house_value', axis = 1)\n",
    "y_test =  X['median_house_value']\n",
    "\n",
    "# X_test = test_set.copy().drop('median_house_value', axis = 1)\n",
    "# y_test = test_set.copy()['median_house_value']\n",
    "\n",
    "num_attribs = list(X_train)[: -1]\n",
    "cat_attribs = ['ocean_proximity']\n",
    "\n",
    "model = grid_search.best_estimator_\n",
    "model = RandomForestRegressor(bootstrap = False, max_features=3, n_estimators=311, random_state= 42, min_samples_leaf = 3, min_samples_split = 6, max_depth = 35)\n",
    "\n",
    "num_transformer = Pipeline([('imputer', SimpleImputer(missing_values = np.NaN, strategy=\"median\")),\n",
    "                            ('attribs_adder', CombinedAttributesAdder(False, True, True, switch= True)),\n",
    "                            ('std_scaler', StandardScaler()),\n",
    "                            ])\n",
    "\n",
    "preprocessor = ColumnTransformer([('num', num_transformer, num_attribs),\n",
    "                                  ('cat', OneHotEncoder(), cat_attribs)])\n",
    "\n",
    "full_pipeline = Pipeline([('prep', preprocessor),\n",
    "                          ('feature_selector', TopFeatureSelector(feature_importance, k = 8)) ,\n",
    "                          ('clf', model)])\n",
    "\n",
    "\n",
    "full_pipeline.fit(X_train, y_train)\n",
    "final_predictions = full_pipeline.predict(X_test)\n",
    "full_pipeline.score(X_test, y_test)\n"
   ]
  },
  {
   "cell_type": "code",
   "execution_count": 745,
   "metadata": {},
   "outputs": [
    {
     "data": {
      "text/plain": [
       "43429.20941099442"
      ]
     },
     "execution_count": 745,
     "metadata": {},
     "output_type": "execute_result"
    }
   ],
   "source": [
    "from sklearn.metrics import mean_squared_error\n",
    "final_mse = mean_squared_error(y_test, final_predictions)\n",
    "final_rmse = np.sqrt(final_mse)\n",
    "final_rmse\n",
    "#43296.92550180643"
   ]
  }
 ],
 "metadata": {
  "interpreter": {
   "hash": "4dcf27198219bb1c18cab1a0fa6491588141fefa7a01e4d7d057fce6d70dceed"
  },
  "kernelspec": {
   "display_name": "Python 3.8.0 64-bit",
   "language": "python",
   "name": "python3"
  },
  "language_info": {
   "codemirror_mode": {
    "name": "ipython",
    "version": 3
   },
   "file_extension": ".py",
   "mimetype": "text/x-python",
   "name": "python",
   "nbconvert_exporter": "python",
   "pygments_lexer": "ipython3",
   "version": "3.8.0"
  },
  "orig_nbformat": 4
 },
 "nbformat": 4,
 "nbformat_minor": 2
}
